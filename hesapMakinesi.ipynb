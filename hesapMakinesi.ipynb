{
 "cells": [
  {
   "cell_type": "code",
   "execution_count": null,
   "id": "10d078ad-f86f-486d-8f38-10f21016acd0",
   "metadata": {},
   "outputs": [
    {
     "name": "stdin",
     "output_type": "stream",
     "text": [
      "ilk sayıyı giriniz:  a\n"
     ]
    },
    {
     "name": "stdout",
     "output_type": "stream",
     "text": [
      "Lütfen sayı giriniz.\n"
     ]
    },
    {
     "name": "stdin",
     "output_type": "stream",
     "text": [
      "ilk sayıyı giriniz:  12\n",
      "ikinci sayıyı giriniz:  20\n",
      "islemlerden birini seçiniz: +-*/  %\n"
     ]
    },
    {
     "name": "stdout",
     "output_type": "stream",
     "text": [
      "Lütfen geçerli işlemlerden birini seçiniz: +-*/ \n"
     ]
    },
    {
     "name": "stdin",
     "output_type": "stream",
     "text": [
      "ilk sayıyı giriniz:  +\n"
     ]
    },
    {
     "name": "stdout",
     "output_type": "stream",
     "text": [
      "Lütfen sayı giriniz.\n"
     ]
    },
    {
     "name": "stdin",
     "output_type": "stream",
     "text": [
      "ilk sayıyı giriniz:  10\n",
      "ikinci sayıyı giriniz:  20\n",
      "islemlerden birini seçiniz: +-*/  +\n"
     ]
    },
    {
     "name": "stdout",
     "output_type": "stream",
     "text": [
      "10 + 20 = 30\n"
     ]
    }
   ],
   "source": [
    "def hesapla(a,b,islem):\n",
    "\n",
    "    if islem not in \"+-*/\":\n",
    "        return (\"Lütfen geçerli işlemlerden birini seçiniz: +-*/ \")\n",
    "    \n",
    "    if islem == \"+\":\n",
    "        return (str(a)+\" + \"+str(b)+\" = \"+str(a+b))\n",
    "\n",
    "    if islem == \"-\":\n",
    "        return (str(a)+\" - \"+str(b)+\" = \"+str(a-b))\n",
    "\n",
    "    if islem == \"*\":\n",
    "        return (str(a)+\" * \"+str(b)+\" = \"+str(a*b))\n",
    "\n",
    "    if islem == \"/\":\n",
    "        return (str(a)+\" / \"+str(b)+\" = \"+str(a/b))\n",
    "while True: \n",
    "    try:\n",
    "        a = int(input(\"ilk sayıyı giriniz: \"))\n",
    "        b = int(input(\"ikinci sayıyı giriniz: \"))\n",
    "        islem = (input(\"islemlerden birini seçiniz: +-*/ \"))\n",
    "        print(hesapla(a,b,islem))\n",
    "    except:\n",
    "        print(\"Lütfen sayı giriniz.\")\n"
   ]
  },
  {
   "cell_type": "code",
   "execution_count": null,
   "id": "9430444a-04ba-451b-8e8f-98d170113cea",
   "metadata": {},
   "outputs": [],
   "source": []
  }
 ],
 "metadata": {
  "kernelspec": {
   "display_name": "Python [conda env:base] *",
   "language": "python",
   "name": "conda-base-py"
  },
  "language_info": {
   "codemirror_mode": {
    "name": "ipython",
    "version": 3
   },
   "file_extension": ".py",
   "mimetype": "text/x-python",
   "name": "python",
   "nbconvert_exporter": "python",
   "pygments_lexer": "ipython3",
   "version": "3.12.7"
  }
 },
 "nbformat": 4,
 "nbformat_minor": 5
}
